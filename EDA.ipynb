{
  "nbformat": 4,
  "nbformat_minor": 0,
  "metadata": {
    "colab": {
      "name": "EDA",
      "provenance": [],
      "collapsed_sections": []
    },
    "kernelspec": {
      "name": "python3",
      "display_name": "Python 3"
    }
  },
  "cells": [
    {
      "cell_type": "code",
      "metadata": {
        "id": "HiwsqKhDEW3d"
      },
      "source": [
        "import seaborn as sns\n",
        "import pandas as pd\n",
        "import numpy as np\n",
        "import matplotlib.pyplot as plt"
      ],
      "execution_count": 1,
      "outputs": []
    },
    {
      "cell_type": "markdown",
      "metadata": {
        "id": "nHKIr5_4gaNi"
      },
      "source": [
        "#### Give the path of your dataset below and run"
      ]
    },
    {
      "cell_type": "code",
      "metadata": {
        "id": "eC5DSsBLEhTz"
      },
      "source": [
        "# paste your file path in the space given below\n",
        "dataframe = pd.read_csv('#Give File Path Here')"
      ],
      "execution_count": 11,
      "outputs": []
    },
    {
      "cell_type": "code",
      "metadata": {
        "id": "QeP-R8PGc_vZ"
      },
      "source": [
        "# This is not to change anything in your original data Frame\n",
        "df = dataframe.copy()"
      ],
      "execution_count": 29,
      "outputs": []
    },
    {
      "cell_type": "markdown",
      "metadata": {
        "id": "4PMVtObeg6FR"
      },
      "source": [
        "#### Give the target variable name below and run"
      ]
    },
    {
      "cell_type": "code",
      "metadata": {
        "id": "gGI3YTuoWPX-"
      },
      "source": [
        "# Give your output label here\n",
        "df=df.rename(columns = {'#ENTER HERE':'output'})"
      ],
      "execution_count": 31,
      "outputs": []
    },
    {
      "cell_type": "markdown",
      "metadata": {
        "id": "61AX0k6phF9V"
      },
      "source": [
        "### From here run all the cells to see how your data is ditributed no need to change anything Just run the cells"
      ]
    },
    {
      "cell_type": "code",
      "metadata": {
        "id": "TvMNnF6gdqdU"
      },
      "source": [
        "df.head()"
      ],
      "execution_count": null,
      "outputs": []
    },
    {
      "cell_type": "code",
      "metadata": {
        "id": "HWntN12VudBV"
      },
      "source": [
        "df.describe()"
      ],
      "execution_count": null,
      "outputs": []
    },
    {
      "cell_type": "code",
      "metadata": {
        "id": "1vDM7ohCugyN"
      },
      "source": [
        "df.shape"
      ],
      "execution_count": null,
      "outputs": []
    },
    {
      "cell_type": "markdown",
      "metadata": {
        "id": "TmM5w6G5WgBu"
      },
      "source": [
        "### Just run the cells below to visualize your data "
      ]
    },
    {
      "cell_type": "markdown",
      "metadata": {
        "id": "bHCeffcHTcW4"
      },
      "source": [
        "### Visualizing the data"
      ]
    },
    {
      "cell_type": "code",
      "metadata": {
        "id": "ztwXfrnOETtx"
      },
      "source": [
        "# Heatmap for null values\n",
        "sns.heatmap(df.isnull(),yticklabels=False,cbar=False)"
      ],
      "execution_count": null,
      "outputs": []
    },
    {
      "cell_type": "code",
      "metadata": {
        "id": "3YAENB94E8N7"
      },
      "source": [
        "#Box-Plot to understand the distribution of numerical data.\n",
        "Numerical_Features = [feature for feature in df.columns if df[feature].dtypes!='O']\n",
        "for feature in Numerical_Features:\n",
        "    df.boxplot(column=feature)\n",
        "    plt.ylabel(feature)\n",
        "    plt.title(feature)\n",
        "    plt.show()"
      ],
      "execution_count": null,
      "outputs": []
    },
    {
      "cell_type": "code",
      "metadata": {
        "id": "T0caRtu4Kn6B"
      },
      "source": [
        "# Scatter plots to show the relation between your Numerical features and outputlable\n",
        "for feature in Numerical_Features:\n",
        "    if feature != 'output':\n",
        "        #df[feature]=np.log(df[feature])\n",
        "        #df['output']=np.log(df['output'])\n",
        "        plt.scatter(df[feature],df['output'])\n",
        "        plt.xlabel(feature)\n",
        "        plt.ylabel('output')\n",
        "        plt.title(feature)\n",
        "        plt.show()\n"
      ],
      "execution_count": null,
      "outputs": []
    },
    {
      "cell_type": "code",
      "metadata": {
        "id": "wLA6XZN5HKXv"
      },
      "source": [
        "# Bar plots to show the relation between your catogorical(text) features and outputlable\n",
        "Catogorical_features = [feature for feature in df.columns if df[feature].dtypes=='O'] \n",
        "for feature in Catogorical_features:\n",
        "    if feature != 'output':\n",
        "        df.groupby(feature)['output'].median().plot.bar()\n",
        "        plt.xlabel(feature)\n",
        "        plt.ylabel('output')\n",
        "        plt.title(feature)\n",
        "        plt.show()"
      ],
      "execution_count": 36,
      "outputs": []
    },
    {
      "cell_type": "markdown",
      "metadata": {
        "id": "pGPrSnkMMVx4"
      },
      "source": [
        "##### Correlation Heatmap,On analysing this you can drop the features that are not useful like if some more correlated drop them otherwise they will act like duplicates"
      ]
    },
    {
      "cell_type": "code",
      "metadata": {
        "id": "iPD3I0cUKa_N"
      },
      "source": [
        "df.drop(columns='output',axis=1)\n",
        "df.corr()"
      ],
      "execution_count": null,
      "outputs": []
    },
    {
      "cell_type": "code",
      "metadata": {
        "id": "r0J4wBrdMUSS"
      },
      "source": [
        "#Using Pearson Correlation\n",
        "dp = df.copy() #copying so that we dont change anything in our original dataframe \n",
        "dp = dp.drop('output',axis = 1)\n",
        "plt.figure(figsize=(12,10))\n",
        "cor = dp.corr()\n",
        "sns.heatmap(cor, annot=True, cmap=plt.cm.CMRmap_r)\n",
        "plt.show()"
      ],
      "execution_count": null,
      "outputs": []
    },
    {
      "cell_type": "code",
      "metadata": {
        "id": "mEDcxooTPB_U"
      },
      "source": [
        "# This function will give you the correlated features based on the threshold you set\n",
        "def correlation(data, threshold):\n",
        "    col_corr = set() \n",
        "    corr_matrix = data.corr()\n",
        "    for i in range(len(corr_matrix.columns)):\n",
        "        for j in range(i):\n",
        "            if abs(corr_matrix.iloc[i, j]) > threshold: #Taking abs value because (pearson corr) have corr range of (-1,1).so we need only +highvalues.\n",
        "                colname = corr_matrix.columns[i] \n",
        "                col_corr.add(colname)\n",
        "    return col_corr"
      ],
      "execution_count": 39,
      "outputs": []
    },
    {
      "cell_type": "code",
      "metadata": {
        "id": "63xV_KdMQxgq"
      },
      "source": [
        "corr_features = correlation(df, 0.8)\n",
        "print(\"No. of correlated features are {}\".format(len(set(corr_features))))"
      ],
      "execution_count": null,
      "outputs": []
    },
    {
      "cell_type": "code",
      "metadata": {
        "id": "EIryKzCER6sN"
      },
      "source": [
        "# you can drop these corr_features both from your train data and test data to avoid overfitting.\n",
        "#df.drop(corr_features,axis = 1) #use this if you want to drop"
      ],
      "execution_count": null,
      "outputs": []
    },
    {
      "cell_type": "code",
      "metadata": {
        "id": "iRtGyUtPuEtz"
      },
      "source": [
        ""
      ],
      "execution_count": null,
      "outputs": []
    }
  ]
}