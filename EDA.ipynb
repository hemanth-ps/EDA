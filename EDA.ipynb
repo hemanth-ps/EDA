{
  "nbformat": 4,
  "nbformat_minor": 0,
  "metadata": {
    "colab": {
      "name": "EDA",
      "provenance": [],
      "collapsed_sections": [],
      "toc_visible": true
    },
    "kernelspec": {
      "name": "python3",
      "display_name": "Python 3"
    }
  },
  "cells": [
    {
      "cell_type": "code",
      "metadata": {
        "id": "HiwsqKhDEW3d"
      },
      "source": [
        "import seaborn as sns\n",
        "import pandas as pd\n",
        "\n",
        "import numpy as np\n",
        "import matplotlib.pyplot as plt\n",
        "%matplotlib inline"
      ],
      "execution_count": 29,
      "outputs": []
    },
    {
      "cell_type": "markdown",
      "metadata": {
        "id": "nHKIr5_4gaNi"
      },
      "source": [
        "#### Give the path of your dataset below and run"
      ]
    },
    {
      "cell_type": "code",
      "metadata": {
        "id": "eC5DSsBLEhTz"
      },
      "source": [
        "# paste your file path in the space given below\n",
        "dataframe = pd.read_csv('#Give File Path Here')"
      ],
      "execution_count": 41,
      "outputs": []
    },
    {
      "cell_type": "code",
      "metadata": {
        "id": "QeP-R8PGc_vZ"
      },
      "source": [
        "# This is not to change anything in your original data Frame\n",
        "df = dataframe.copy()"
      ],
      "execution_count": 42,
      "outputs": []
    },
    {
      "cell_type": "markdown",
      "metadata": {
        "id": "4PMVtObeg6FR"
      },
      "source": [
        "#### Give the target variable name below and run"
      ]
    },
    {
      "cell_type": "code",
      "metadata": {
        "id": "gGI3YTuoWPX-"
      },
      "source": [
        "# Give your output label here\n",
        "df=df.rename(columns = {'#ENTER HERE':'output'})"
      ],
      "execution_count": 43,
      "outputs": []
    },
    {
      "cell_type": "markdown",
      "metadata": {
        "id": "61AX0k6phF9V"
      },
      "source": [
        "### From here run all the cells to see how your data is ditributed no need to change anything Just run the cells"
      ]
    },
    {
      "cell_type": "code",
      "metadata": {
        "id": "TvMNnF6gdqdU"
      },
      "source": [
        "df.head()"
      ],
      "execution_count": null,
      "outputs": []
    },
    {
      "cell_type": "code",
      "metadata": {
        "id": "HWntN12VudBV"
      },
      "source": [
        "df.describe()"
      ],
      "execution_count": null,
      "outputs": []
    },
    {
      "cell_type": "code",
      "metadata": {
        "id": "1vDM7ohCugyN"
      },
      "source": [
        "df.shape"
      ],
      "execution_count": null,
      "outputs": []
    },
    {
      "cell_type": "markdown",
      "metadata": {
        "id": "TmM5w6G5WgBu"
      },
      "source": [
        "### Just run the cells below to visualize your data "
      ]
    },
    {
      "cell_type": "markdown",
      "metadata": {
        "id": "bHCeffcHTcW4"
      },
      "source": [
        "### Visualizing the data"
      ]
    },
    {
      "cell_type": "code",
      "metadata": {
        "id": "ztwXfrnOETtx"
      },
      "source": [
        "# Heatmap for null values\n",
        "sns.heatmap(df.isnull(),yticklabels=False,cbar=False,cmap='viridis')"
      ],
      "execution_count": null,
      "outputs": []
    },
    {
      "cell_type": "code",
      "metadata": {
        "id": "3YAENB94E8N7"
      },
      "source": [
        "#Box-Plot to understand the distribution of numerical data.\n",
        "Numerical_Features = [feature for feature in df.columns if df[feature].dtypes!='O']\n",
        "for feature in Numerical_Features:\n",
        "    df.boxplot(column=feature)\n",
        "    plt.ylabel(feature)\n",
        "    plt.title(feature)\n",
        "    plt.show()"
      ],
      "execution_count": null,
      "outputs": []
    },
    {
      "cell_type": "code",
      "metadata": {
        "id": "T0caRtu4Kn6B"
      },
      "source": [
        "# Scatter plots to show the relation between your Numerical features and outputlable\n",
        "for feature in Numerical_Features:\n",
        "    if feature != 'output':\n",
        "        #df[feature]=np.log(df[feature])\n",
        "        #df['output']=np.log(df['output'])\n",
        "        plt.scatter(df[feature],df['output'])\n",
        "        plt.xlabel(feature)\n",
        "        plt.ylabel('output')\n",
        "        plt.title(feature)\n",
        "        plt.show()\n"
      ],
      "execution_count": null,
      "outputs": []
    },
    {
      "cell_type": "code",
      "metadata": {
        "id": "wLA6XZN5HKXv"
      },
      "source": [
        "# Bar plots to show the relation between your catogorical(text) features and outputlable\n",
        "Catogorical_features = [feature for feature in df.columns if df[feature].dtypes=='O'] \n",
        "for feature in Catogorical_features:\n",
        "    if feature != 'output':\n",
        "        df.groupby(feature)['output'].median().plot.bar()\n",
        "        plt.xlabel(feature)\n",
        "        plt.ylabel('output')\n",
        "        plt.title(feature)\n",
        "        plt.show()"
      ],
      "execution_count": null,
      "outputs": []
    },
    {
      "cell_type": "markdown",
      "metadata": {
        "id": "pGPrSnkMMVx4"
      },
      "source": [
        "##### Correlation Heatmap,On analysing this you can drop the features that are not useful like if some more correlated drop them otherwise they will act like duplicates"
      ]
    },
    {
      "cell_type": "code",
      "metadata": {
        "id": "iPD3I0cUKa_N"
      },
      "source": [
        "df.drop(columns='output',axis=1)\n",
        "df.corr()"
      ],
      "execution_count": null,
      "outputs": []
    },
    {
      "cell_type": "code",
      "metadata": {
        "id": "r0J4wBrdMUSS"
      },
      "source": [
        "#Using Pearson Correlation\n",
        "dp = df.copy() #copying so that we dont change anything in our original dataframe \n",
        "dp = dp.drop('output',axis = 1)\n",
        "plt.figure(figsize=(12,10))\n",
        "cor = dp.corr()\n",
        "sns.heatmap(cor, annot=True, cmap=plt.cm.CMRmap_r)\n",
        "plt.show()"
      ],
      "execution_count": null,
      "outputs": []
    },
    {
      "cell_type": "code",
      "metadata": {
        "id": "mEDcxooTPB_U"
      },
      "source": [
        "# This function will give you the correlated features based on the threshold you set\n",
        "def correlation(data, threshold):\n",
        "    col_corr = set() \n",
        "    corr_matrix = data.corr()\n",
        "    for i in range(len(corr_matrix.columns)):\n",
        "        for j in range(i):\n",
        "            if abs(corr_matrix.iloc[i, j]) > threshold: #Taking abs value because (pearson corr) have corr range of (-1,1).so we need only +highvalues.\n",
        "                colname = corr_matrix.columns[i] \n",
        "                col_corr.add(colname)\n",
        "    return col_corr"
      ],
      "execution_count": 21,
      "outputs": []
    },
    {
      "cell_type": "code",
      "metadata": {
        "id": "63xV_KdMQxgq",
        "outputId": "8d550bf5-2232-4a58-e5e5-549108d9fa22",
        "colab": {
          "base_uri": "https://localhost:8080/",
          "height": 34
        }
      },
      "source": [
        "corr_features = correlation(df, 0.8)\n",
        "print(\"No. of correlated features are {}\".format(len(set(corr_features))))"
      ],
      "execution_count": 22,
      "outputs": [
        {
          "output_type": "stream",
          "text": [
            "No. of correlated features are 4\n"
          ],
          "name": "stdout"
        }
      ]
    },
    {
      "cell_type": "code",
      "metadata": {
        "id": "EIryKzCER6sN"
      },
      "source": [
        "# you can drop these corr_features both from your train data and test data to avoid overfitting.\n",
        "#df.drop(corr_features,axis = 1) #use this if you want to drop"
      ],
      "execution_count": null,
      "outputs": []
    },
    {
      "cell_type": "markdown",
      "metadata": {
        "id": "ALHx382zi9EE"
      },
      "source": [
        "#### Preprocessing Text Features(These are just basic preprocessing You can do more advance,but this will help in solving)\n",
        "\n",
        "> Convert your text features into numericals\n",
        "\n"
      ]
    },
    {
      "cell_type": "code",
      "metadata": {
        "id": "jdOPRJ8wnjn5"
      },
      "source": [
        "# Guys if you have less(say < 30) no. of catogories in a feature use this other wise apply one-hoting to the top 10 or 20 catogories in your data\n",
        "df = pd.concat([df,pd.get_dummies(df[Catogorical_features],drop_first=True)], axis=1)\n",
        "df.drop(Catogorical_features,axis=1,inplace=True)"
      ],
      "execution_count": 46,
      "outputs": []
    },
    {
      "cell_type": "markdown",
      "metadata": {
        "id": "BDD_un8qfhye"
      },
      "source": [
        "#### Test-Train Split"
      ]
    },
    {
      "cell_type": "code",
      "metadata": {
        "id": "i5dpTa8WgiXJ"
      },
      "source": [
        "Y = df.output\n",
        "X = df.drop(columns = 'output',axis = 1)"
      ],
      "execution_count": 25,
      "outputs": []
    },
    {
      "cell_type": "code",
      "metadata": {
        "id": "BPrp7l-EfgfD"
      },
      "source": [
        "# Like below do your validate split\n",
        "from sklearn.model_selection import train_test_split\n",
        "x_train, x_test, y_train, y_test = train_test_split(X,Y, test_size=0.20,random_state=42)"
      ],
      "execution_count": 48,
      "outputs": []
    },
    {
      "cell_type": "markdown",
      "metadata": {
        "id": "WNv6zUWNhbgZ"
      },
      "source": [
        "### Models\n",
        "\n",
        "> Classification(If your problem is classification use these algorithms and choose the best for your problem statement)\n",
        "\n",
        "1.   KNN\n",
        "2.   DecisionTree\n",
        "3.   SVM\n",
        "4.   Logistic"
      ]
    },
    {
      "cell_type": "markdown",
      "metadata": {
        "id": "kGiLif_7tBjT"
      },
      "source": [
        "## KNN"
      ]
    },
    {
      "cell_type": "code",
      "metadata": {
        "id": "4ilhW9NShYxq"
      },
      "source": [
        "#KNN\n",
        "from sklearn.neighbors import KNeighborsClassifier\n",
        "from sklearn import metrics"
      ],
      "execution_count": null,
      "outputs": []
    },
    {
      "cell_type": "code",
      "metadata": {
        "id": "ODRz1prMs4qB"
      },
      "source": [
        "error_rate = []\n",
        "# It Will take some time\n",
        "for i in range(1,40):# We are checking with several k values to know the best k\n",
        "    knn = KNeighborsClassifier(n_neighbors=i)\n",
        "    knn.fit(x_train,y_train)\n",
        "    pred_i = knn.predict(x_test)\n",
        "    error_rate.append(np.mean(pred_i != y_test))"
      ],
      "execution_count": null,
      "outputs": []
    },
    {
      "cell_type": "code",
      "metadata": {
        "id": "nhYWjVlpwRRR"
      },
      "source": [
        "#From this graph choose best k(where error is less) and train with it\n",
        "plt.figure(figsize=(10,6))\n",
        "plt.plot(range(1,40),error_rate,color='blue', linestyle='dashed', marker='o',\n",
        "         markerfacecolor='red', markersize=10)\n",
        "plt.title('Error Rate vs. K Value')\n",
        "plt.xlabel('K')\n",
        "plt.ylabel('Error Rate')"
      ],
      "execution_count": null,
      "outputs": []
    },
    {
      "cell_type": "code",
      "metadata": {
        "id": "aGT_U_Lbw9Bp"
      },
      "source": [
        "# Type your best k value\n",
        "knn = KNeighborsClassifier(n_neighbors=#enter here)\n",
        "\n",
        "knn.fit(x_train,y_train)\n",
        "pred = knn.predict(x_test)\n",
        "\n",
        "print('\\n')\n",
        "print(confusion_matrix(y_test,pred))\n",
        "print('\\n')\n",
        "print(classification_report(y_test,pred))"
      ],
      "execution_count": null,
      "outputs": []
    },
    {
      "cell_type": "markdown",
      "metadata": {
        "id": "aNZTWB45s5KR"
      },
      "source": [
        "## DecisionTree Classifier"
      ]
    },
    {
      "cell_type": "code",
      "metadata": {
        "id": "NrqSwfcnqIzG"
      },
      "source": [
        "from sklearn.tree import DecisionTreeClassifier\n",
        "TREE2 = DecisionTreeClassifier(criterion=\"entropy\", max_depth = 6)\n",
        "TREE2.fit(x_train,y_train)"
      ],
      "execution_count": null,
      "outputs": []
    },
    {
      "cell_type": "code",
      "metadata": {
        "id": "vavnx3Dnr0Hy"
      },
      "source": [
        "predDT = TREE2.predict(x_test)\n",
        "from sklearn import metrics\n",
        "import matplotlib.pyplot as plt\n",
        "print(\"DecisionTrees's Accuracy: \", metrics.accuracy_score(y_test, predDT))"
      ],
      "execution_count": null,
      "outputs": []
    },
    {
      "cell_type": "code",
      "metadata": {
        "id": "c8Z9KvENr7bZ"
      },
      "source": [
        "from sklearn.metrics import classification_report,jaccard_similarity_score,log_loss,f1_score\n",
        "print(classification_report(y_test,predDT))\n",
        "print('\\n')\n",
        "print('Jaccard Similarity Score : ',round(jaccard_similarity_score(y_test,predDT)*100,2),'%')\n",
        "print('\\n')\n",
        "print('F1-SCORE : ',f1_score(y_test,predDT,average=None))\n",
        "print('\\n')\n",
        "print('Train Accuracy: ',metrics.accuracy_score(y_train, TREE2.predict(x_train))*100,'%')"
      ],
      "execution_count": null,
      "outputs": []
    },
    {
      "cell_type": "markdown",
      "metadata": {
        "id": "f7d1FfYStKRJ"
      },
      "source": [
        "## SupportVectorMachine(SVM)"
      ]
    },
    {
      "cell_type": "code",
      "metadata": {
        "id": "rJWkLugQtGwN"
      },
      "source": [
        "from sklearn.svm import SVC\n",
        "from sklearn.metrics import accuracy_score\n",
        "svm = SVC(kernel='rbf').fit(x_train,y_train)\n",
        "pred_svm=svm.predict(x_test)"
      ],
      "execution_count": null,
      "outputs": []
    },
    {
      "cell_type": "code",
      "metadata": {
        "id": "7dTgWtf4teXJ"
      },
      "source": [
        "print(classification_report(y_test,pred_svm))\n",
        "print('\\n')\n",
        "print('Jaccard Similarity Score : ',round(jaccard_similarity_score(y_test,pred_svm)*100,2),'%')\n",
        "print('\\n')\n",
        "print('F1-SCORE : ',f1_score(y_test,pred_svm,average=None))\n",
        "print('\\n')\n",
        "print('Train Accuracy: ',metrics.accuracy_score(y_train, svm.predict(x_train))*100,'%')"
      ],
      "execution_count": null,
      "outputs": []
    },
    {
      "cell_type": "code",
      "metadata": {
        "id": "d6_Whmylueqa"
      },
      "source": [
        "print('\\n')\n",
        "print('Test Accuracy: ',metrics.accuracy_score(pred_svm, y_test)*100,'%')\n",
        "print('\\n')"
      ],
      "execution_count": null,
      "outputs": []
    },
    {
      "cell_type": "markdown",
      "metadata": {
        "id": "DKARCIh7toQp"
      },
      "source": [
        "## Logistic Regression"
      ]
    },
    {
      "cell_type": "code",
      "metadata": {
        "id": "lLIlc3QHt2Q-"
      },
      "source": [
        "from sklearn.linear_model import LogisticRegression\n",
        "lgm=LogisticRegression()\n",
        "lgm.fit(x_train,y_train)\n",
        "pred_lgm=lgm.predict(x_test)"
      ],
      "execution_count": null,
      "outputs": []
    },
    {
      "cell_type": "code",
      "metadata": {
        "id": "SSUen5JRuEtq"
      },
      "source": [
        "print(classification_report(y_test,pred_lgm))\n",
        "print('\\n')\n",
        "print('Jaccard Similarity Score : ',round(jaccard_similarity_score(y_test,pred_lgm)*100,2),'%')\n",
        "print('\\n')\n",
        "print('F1-SCORE : ',f1_score(y_test,pred_lgm,average=None))\n",
        "print('\\n')\n",
        "print('Train Accuracy: ',metrics.accuracy_score(y_train, lgm.predict(x_train))*100,'%')"
      ],
      "execution_count": null,
      "outputs": []
    },
    {
      "cell_type": "code",
      "metadata": {
        "id": "TSSH5x5NuYvE"
      },
      "source": [
        "print('\\n')\n",
        "print('Test Accuracy: ',metrics.accuracy_score(y_test, pred_lgm)*100,'%' )\n",
        "print('\\n')"
      ],
      "execution_count": null,
      "outputs": []
    }
  ]
}